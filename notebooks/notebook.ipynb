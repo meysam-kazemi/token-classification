{
 "cells": [
  {
   "cell_type": "code",
   "execution_count": 6,
   "metadata": {},
   "outputs": [],
   "source": [
    "# src/utils.py\n",
    "import os\n",
    "from datasets import load_dataset\n",
    "import configparser\n",
    "os.chdir('..')\n",
    "\n",
    "def load_saved_dataset(dataset_name):\n",
    "    \"\"\"\n",
    "    Loads the saved dataset from the specified directory.\n",
    "\n",
    "    Args:\n",
    "        dataset_name (str): The name of the dataset.\n",
    "        data_dir (str): The directory where the dataset is saved.\n",
    "\n",
    "    Returns:\n",
    "        datasets.DatasetDict: Loaded dataset.\n",
    "    \"\"\"\n",
    "    data_dir = 'data'\n",
    "    # Load the dataset from the specified directory\n",
    "    dataset = load_dataset('json', data_files={\n",
    "        'train': os.path.join(data_dir, f\"{dataset_name}_train.json\"),\n",
    "        'validation': os.path.join(data_dir, f\"{dataset_name}_validation.json\"),\n",
    "        'test': os.path.join(data_dir, f\"{dataset_name}_test.json\")\n",
    "    })\n",
    "    \n",
    "    return dataset\n",
    "\n",
    "\n",
    "def read_config(config_file='config.ini'):\n",
    "    \"\"\"\n",
    "    Reads the configuration file and returns the settings as a dictionary.\n",
    "\n",
    "    Args:\n",
    "        config_file (str): Path to the configuration file.\n",
    "\n",
    "    Returns:\n",
    "        dict: A dictionary containing the configuration settings.\n",
    "    \"\"\"\n",
    "    config = configparser.ConfigParser()\n",
    "    \n",
    "    # Check if the config file exists\n",
    "    if not os.path.exists(config_file):\n",
    "        raise FileNotFoundError(f\"The configuration file '{config_file}' does not exist.\")\n",
    "    \n",
    "    config.read(config_file)\n",
    "    \n",
    "    # Convert config sections to a dictionary\n",
    "    config_dict = {section: dict(config.items(section)) for section in config.sections()}\n",
    "    \n",
    "    return config_dict\n",
    "\n"
   ]
  },
  {
   "cell_type": "code",
   "execution_count": 7,
   "metadata": {},
   "outputs": [
    {
     "name": "stdout",
     "output_type": "stream",
     "text": [
      "/run/media/meysam/PROGRAM/0.py/token-classification\n"
     ]
    }
   ],
   "source": [
    "!pwd"
   ]
  },
  {
   "cell_type": "code",
   "execution_count": 8,
   "metadata": {},
   "outputs": [],
   "source": [
    "config = read_config()\n",
    "data = load_dataset(config['dataset']['name'])"
   ]
  },
  {
   "cell_type": "code",
   "execution_count": 22,
   "metadata": {},
   "outputs": [
    {
     "data": {
      "text/plain": [
       "['EU', 'rejects', 'German', 'call', 'to', 'boycott', 'British', 'lamb', '.']"
      ]
     },
     "execution_count": 22,
     "metadata": {},
     "output_type": "execute_result"
    }
   ],
   "source": [
    "data['train'][0]['tokens']"
   ]
  },
  {
   "cell_type": "code",
   "execution_count": 23,
   "metadata": {},
   "outputs": [
    {
     "data": {
      "text/plain": [
       "[3, 0, 7, 0, 0, 0, 7, 0, 0]"
      ]
     },
     "execution_count": 23,
     "metadata": {},
     "output_type": "execute_result"
    }
   ],
   "source": [
    "data['train'][0]['ner_tags']"
   ]
  },
  {
   "cell_type": "code",
   "execution_count": 41,
   "metadata": {},
   "outputs": [
    {
     "name": "stdout",
     "output_type": "stream",
     "text": [
      "['O', 'B-PER', 'I-PER', 'B-ORG', 'I-ORG', 'B-LOC', 'I-LOC', 'B-MISC', 'I-MISC']\n",
      "    EU     rejects    German     call       to     boycott   British     lamb       .     \n",
      "  B-ORG       O       B-MISC      O         O         O       B-MISC      O         O     \n"
     ]
    }
   ],
   "source": [
    "label_names = data[\"train\"].features[\"ner_tags\"].feature.names\n",
    "print(label_names)\n",
    "words = data[\"train\"][0][\"tokens\"]\n",
    "labels = data[\"train\"][0][\"ner_tags\"]\n",
    "line1 = \"\"\n",
    "line2 = \"\"\n",
    "for word, label in zip(words, labels):\n",
    "    full_label = label_names[label]\n",
    "    max_length = max(len(word), len(full_label))\n",
    "    line1 += f\"{word:^10}\"\n",
    "    line2 += f\"{full_label:^10}\"\n",
    "\n",
    "print(line1)\n",
    "print(line2)"
   ]
  },
  {
   "cell_type": "code",
   "execution_count": null,
   "metadata": {},
   "outputs": [],
   "source": []
  },
  {
   "cell_type": "code",
   "execution_count": null,
   "metadata": {},
   "outputs": [],
   "source": []
  },
  {
   "cell_type": "code",
   "execution_count": null,
   "metadata": {},
   "outputs": [],
   "source": []
  },
  {
   "cell_type": "code",
   "execution_count": null,
   "metadata": {},
   "outputs": [],
   "source": []
  },
  {
   "cell_type": "code",
   "execution_count": null,
   "metadata": {},
   "outputs": [],
   "source": []
  },
  {
   "cell_type": "code",
   "execution_count": null,
   "metadata": {},
   "outputs": [],
   "source": []
  }
 ],
 "metadata": {
  "kernelspec": {
   "display_name": "usr",
   "language": "python",
   "name": "python3"
  },
  "language_info": {
   "codemirror_mode": {
    "name": "ipython",
    "version": 3
   },
   "file_extension": ".py",
   "mimetype": "text/x-python",
   "name": "python",
   "nbconvert_exporter": "python",
   "pygments_lexer": "ipython3",
   "version": "3.11.6"
  }
 },
 "nbformat": 4,
 "nbformat_minor": 2
}
